{
 "cells": [
  {
   "cell_type": "markdown",
   "id": "cd0361c4",
   "metadata": {},
   "source": [
    "# Data Science Tools and Ecosystem"
   ]
  },
  {
   "cell_type": "markdown",
   "id": "a62578d0",
   "metadata": {},
   "source": [
    "## Introduction\n",
    "This notebook provides an overview of the data science tools and ecosystem. It covers key data science languages, libraries, and tools used in the field, along with examples of arithmetic operations and conversions. The objective is to demonstrate familiarity with Jupyterlite Notebook and basic data science concepts."
   ]
  },
  {
   "cell_type": "markdown",
   "id": "ae606e48",
   "metadata": {},
   "source": [
    "## Data Science Languages\n",
    "- Python\n",
    "- R\n",
    "- SQL\n",
    "- Julia\n",
    "- Scala\n",
    "- Java"
   ]
  },
  {
   "cell_type": "markdown",
   "id": "36745a9f",
   "metadata": {},
   "source": [
    "## Data Science Libraries\n",
    "- Python: Pandas, NumPy, Scikit-learn, TensorFlow, Keras, Matplotlib, Seaborn\n",
    "- R: ggplot2, dplyr, caret, tidyr, Lattice, Plotly\n",
    "- Others: Apache Spark (PySpark), D3.js (JavaScript)"
   ]
  },
  {
   "cell_type": "markdown",
   "id": "bc7ff75a",
   "metadata": {},
   "source": [
    "## Data Science Tools\n",
    "| Tool | Description |\n",
    "|------|-------------|\n",
    "| Jupyter Notebook | Interactive environment for coding and visualization |\n",
    "| RStudio | IDE for R programming and data analysis |\n",
    "| Apache Spark | Big data processing and analytics framework |\n",
    "| TensorFlow | Machine learning and deep learning framework |\n",
    "| Tableau | Data visualization and business intelligence tool |"
   ]
  },
  {
   "cell_type": "markdown",
   "id": "5a74e188",
   "metadata": {},
   "source": [
    "## Arithmetic Expression Examples\n",
    "Below are examples of basic arithmetic operations, such as multiplication and addition, implemented in Python code cells."
   ]
  },
  {
   "cell_type": "code",
   "execution_count": 1,
   "id": "e7dca4b0",
   "metadata": {},
   "outputs": [
    {
     "name": "stdout",
     "output_type": "stream",
     "text": [
      "Multiplication: 5 * 3 = 15\n",
      "Addition: 5 + 3 = 8\n"
     ]
    }
   ],
   "source": [
    "# Multiply and add numbers\n",
    "a = 5\n",
    "b = 3\n",
    "multiplication = a * b\n",
    "addition = a + b\n",
    "print(f\"Multiplication: {a} * {b} = {multiplication}\")\n",
    "print(f\"Addition: {a} + {b} = {addition}\")"
   ]
  },
  {
   "cell_type": "code",
   "execution_count": 2,
   "id": "55677940",
   "metadata": {},
   "outputs": [
    {
     "name": "stdout",
     "output_type": "stream",
     "text": [
      "150 minutes is equal to 2.50 hours\n"
     ]
    }
   ],
   "source": [
    "# Convert minutes to hours\n",
    "minutes = 150\n",
    "hours = minutes / 60\n",
    "print(f\"{minutes} minutes is equal to {hours:.2f} hours\")"
   ]
  },
  {
   "cell_type": "markdown",
   "id": "2a37d0f8",
   "metadata": {},
   "source": [
    "## Objectives\n",
    "- Understand and list key data science languages and libraries.\n",
    "- Demonstrate the use of Jupyterlite Notebook for creating markdown and code cells.\n",
    "- Perform basic arithmetic operations and conversions using Python.\n",
    "- Share the notebook publicly via GitHub."
   ]
  },
  {
   "cell_type": "markdown",
   "id": "3d3ce185",
   "metadata": {},
   "source": [
    "## Author\n",
    "Waseem Akram\n",
    "Software Engineer"
   ]
  }
 ],
 "metadata": {
  "kernelspec": {
   "display_name": "Coursera",
   "language": "python",
   "name": "python3"
  },
  "language_info": {
   "codemirror_mode": {
    "name": "ipython",
    "version": 3
   },
   "file_extension": ".py",
   "mimetype": "text/x-python",
   "name": "python",
   "nbconvert_exporter": "python",
   "pygments_lexer": "ipython3",
   "version": "3.12.9"
  }
 },
 "nbformat": 4,
 "nbformat_minor": 5
}
